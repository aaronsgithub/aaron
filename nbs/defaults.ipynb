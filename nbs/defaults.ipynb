{
 "cells": [
  {
   "attachments": {},
   "cell_type": "markdown",
   "metadata": {},
   "source": [
    "# defaults\n",
    "\n",
    "> Convenient default setup functions for various libraries"
   ]
  },
  {
   "cell_type": "code",
   "execution_count": null,
   "metadata": {},
   "outputs": [],
   "source": [
    "#| default_exp defaults"
   ]
  },
  {
   "cell_type": "code",
   "execution_count": null,
   "metadata": {},
   "outputs": [],
   "source": [
    "#| hide\n",
    "from nbdev.showdoc import *"
   ]
  },
  {
   "cell_type": "code",
   "execution_count": null,
   "metadata": {},
   "outputs": [],
   "source": [
    "#| export\n",
    "def setup_mpl(pyplot_instance=None): \n",
    "    \"\"\"Default setup for matplotlib.\"\"\"\n",
    "    if pyplot_instance is None:\n",
    "        if \"plt\" not in globals():\n",
    "            try:\n",
    "                import matplotlib.pyplot as plt\n",
    "                globals()[\"plt\"] = plt\n",
    "            except ImportError:\n",
    "                raise ImportError(\"matplotlib is not installed\") \n",
    "    else:\n",
    "        plt = pyplot_instance\n",
    "    \n",
    "    plt.rcParams[\"image.cmap\"] = \"inferno\""
   ]
  },
  {
   "cell_type": "code",
   "execution_count": null,
   "metadata": {},
   "outputs": [],
   "source": [
    "#| export\n",
    "def notebook():\n",
    "    \"\"\"Default setup for jupyter notebooks\"\"\"\n",
    "    from IPython.core.display import display, HTML\n",
    "    display(HTML(\"<style>.container { width:100% !important; }</style>\"))"
   ]
  },
  {
   "cell_type": "code",
   "execution_count": null,
   "metadata": {},
   "outputs": [],
   "source": [
    "#| export\n",
    "def setup_np(numpy_instance=None):\n",
    "    \"\"\"Default setup for NumPy\"\"\"\n",
    "    global np\n",
    "    if numpy_instance is None: \n",
    "        if \"np\" not in globals():\n",
    "            try:\n",
    "                import numpy as np\n",
    "            except ImportError:\n",
    "                raise ImportError(\"NumPy is not installed\") \n",
    "    else:\n",
    "        np = numpy_instance\n",
    "    np.set_printoptions(precision=4, linewidth=120)    "
   ]
  },
  {
   "cell_type": "code",
   "execution_count": null,
   "metadata": {},
   "outputs": [],
   "source": [
    "#| export\n",
    "def setup_pd(pandas_instance=None):\n",
    "    \"\"\"Default setup for pandas\"\"\"\n",
    "    global pd\n",
    "    if pandas_instance is None:\n",
    "        if \"pd\" not in globals():\n",
    "            try:\n",
    "                import pandas as pd\n",
    "            except ImportError:\n",
    "                raise ImportError(\"pandas is not installed\") \n",
    "    else:\n",
    "        pd = pandas_instance\n",
    "    \n",
    "    pd.set_option(\"display.max_rows\", 1000)\n",
    "    pd.set_option(\"display.max_columns\", 1000)"
   ]
  },
  {
   "cell_type": "code",
   "execution_count": null,
   "metadata": {},
   "outputs": [],
   "source": [
    "#| export\n",
    "def setup_torch(torch_instance=None):\n",
    "    \"\"\"Default setup for PyTorch\"\"\"\n",
    "    if torch_instance is None:\n",
    "        if \"torch\" not in globals():\n",
    "            try:\n",
    "                import torch\n",
    "                global torch\n",
    "            except ImportError:\n",
    "                raise ImportError(\"torch is not installed\") \n",
    "    else:\n",
    "        torch = torch_instance\n",
    "    \n",
    "    torch.set_printoptions(precision=4, linewidth=120)"
   ]
  },
  {
   "cell_type": "code",
   "execution_count": null,
   "metadata": {},
   "outputs": [],
   "source": [
    "#| hide\n",
    "import nbdev; nbdev.nbdev_export()"
   ]
  },
  {
   "cell_type": "code",
   "execution_count": null,
   "metadata": {},
   "outputs": [],
   "source": []
  }
 ],
 "metadata": {
  "kernelspec": {
   "display_name": "python3",
   "language": "python",
   "name": "python3"
  }
 },
 "nbformat": 4,
 "nbformat_minor": 4
}
