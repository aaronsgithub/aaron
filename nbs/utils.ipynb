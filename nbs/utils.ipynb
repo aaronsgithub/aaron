{
 "cells": [
  {
   "attachments": {},
   "cell_type": "markdown",
   "metadata": {},
   "source": [
    "# utils\n",
    "\n",
    "> Tools to help understand what code is doing. "
   ]
  },
  {
   "cell_type": "code",
   "execution_count": null,
   "metadata": {},
   "outputs": [],
   "source": [
    "#| default_exp utils"
   ]
  },
  {
   "cell_type": "code",
   "execution_count": null,
   "metadata": {},
   "outputs": [],
   "source": [
    "#| hide\n",
    "from nbdev.showdoc import *"
   ]
  },
  {
   "cell_type": "code",
   "execution_count": null,
   "metadata": {},
   "outputs": [],
   "source": [
    "#| export\n",
    "from typing import Literal\n",
    "import psutil\n",
    "import rich\n",
    "import time\n",
    "import multiprocessing\n",
    "import tracemalloc\n",
    "import pandas as pd\n",
    "import numpy as np\n",
    "import datetime"
   ]
  },
  {
   "cell_type": "code",
   "execution_count": null,
   "metadata": {},
   "outputs": [],
   "source": [
    "#| export\n",
    "def pmu(\n",
    "    description: str = None,  # Optional, use to give descriptive log for the memory usage at a particular point in the code.\n",
    "    mode: Literal[\"both\", \"cpu\", \"gpu\"] = \"both\",  # Specify which memory to print. Options are \"cpu\", \"gpu\", or \"both\" (the default).\n",
    "):\n",
    "    \"\"\"Print memory usage\n",
    "    \n",
    "    \n",
    "    \"\"\"\n",
    "    if description:\n",
    "       print(description) \n",
    "    \n",
    "    if mode in (\"cpu\", \"both\"):\n",
    "        main_process = psutil.Process()\n",
    "        child_processes = main_process.children(recursive=True)\n",
    "        total_memory_usage = main_process.memory_info().rss\n",
    "        for child in child_processes:\n",
    "            total_memory_usage += child.memory_info().rss\n",
    "        print(f\"CPU Memory usage: {total_memory_usage / 1024 ** 2:.2f} MB\")\n",
    "        \n",
    "    if mode in (\"gpu\", \"both\"):\n",
    "        try:\n",
    "            from pynvml import nvmlInit, nvmlDeviceGetHandleByIndex, nvmlDeviceGetMemoryInfo\n",
    "        except ImportError as e:\n",
    "            e.args += \"Checking gpu memory is only supported for Nvidia devices and requires the pynvml library to be installed\"\n",
    "            raise e\n",
    "\n",
    "        nvmlInit()\n",
    "        handle = nvmlDeviceGetHandleByIndex(0)\n",
    "        info = nvmlDeviceGetMemoryInfo(handle)\n",
    "        print(\"GPU Memory Usage:\")\n",
    "        print(f\"Total: {info.total / 1024**2:.2f} MiB\")\n",
    "        print(f\"Used: {info.used / 1024**2:.2f} MiB\")\n",
    "        print(f\"Free: {info.free / 1024**2:.2f} MiB\")"
   ]
  },
  {
   "cell_type": "code",
   "execution_count": null,
   "metadata": {},
   "outputs": [],
   "source": [
    "#| export\n",
    "class NS:\n",
    "    \"\"\"Class to store state of variables in the global namespace\n",
    "    \n",
    "    Useful for tracking changes to the global namespace at various points in the code.\n",
    "    Particularly useful for use in a Jupyter notebook.\n",
    "    \"\"\"\n",
    "    def __init__(self):\n",
    "        self.initial_variables = copy.copy(globals())\n",
    "\n",
    "    def __call__(self):\n",
    "        current_variables = copy.copy(globals())\n",
    "\n",
    "        added = set(current_variables) - set(self.initial_variables)\n",
    "        removed = set(self.initial_variables) - set(current_variables)\n",
    "        modified = {\n",
    "            key for key in (set(current_variables) & set(self.initial_variables))\n",
    "            if current_variables[key] != self.initial_variables[key]\n",
    "        }\n",
    "\n",
    "        print(\"Added variables:\")\n",
    "        print(added)\n",
    "        print(\"\\nRemoved variables:\")\n",
    "        print(removed)\n",
    "        print(\"\\nModified variables:\")\n",
    "        print(modified)"
   ]
  },
  {
   "cell_type": "code",
   "execution_count": null,
   "metadata": {},
   "outputs": [],
   "source": [
    "#| export\n",
    "def vprint(message):\n",
    "    \"\"\"Give functions has a verbose: bool parameter, and add vprint statements to print messages only when verbose is True\"\"\"\n",
    "    import inspect\n",
    "    local_vars = inspect.currentframe().f_back.f_locals\n",
    "    if local_vars.get(\"verbose\", False):\n",
    "        print(message)"
   ]
  },
  {
   "cell_type": "code",
   "execution_count": null,
   "metadata": {},
   "outputs": [],
   "source": [
    "from rich.console import Console"
   ]
  },
  {
   "cell_type": "code",
   "execution_count": null,
   "metadata": {},
   "outputs": [],
   "source": [
    "#| export\n",
    "console = Console()\n",
    "print_ts = time.time()\n",
    "\n",
    "def sprint(*args, **kwargs) -> None:\n",
    "    global print_ts\n",
    "    now = time.time()\n",
    "    proc = multiprocessing.current_process().name\n",
    "    if proc == \"MainProcess\":\n",
    "        proc = f\"[bold]{proc:<16}[/bold]\"\n",
    "    else:\n",
    "        proc = f\"{proc:>16}\"\n",
    "    console.print(f\"{proc} [[green bold]{now - print_ts:>5.2f}s[/]]\", *args, **kwargs)\n",
    "    print_ts = now\n",
    "    \n",
    "def mem_usage() -> str:\n",
    "    current, peak = tracemalloc.get_traced_memory()\n",
    "    return f\"Memory usage: {current//1024//1024} MB; peak: {peak//1024//1024} MB\""
   ]
  },
  {
   "cell_type": "code",
   "execution_count": null,
   "metadata": {},
   "outputs": [],
   "source": [
    "#| hide\n",
    "import nbdev; nbdev.nbdev_export()"
   ]
  },
  {
   "cell_type": "code",
   "execution_count": null,
   "metadata": {},
   "outputs": [
    {
     "data": {
      "text/html": [
       "<pre style=\"white-space:pre;overflow-x:auto;line-height:normal;font-family:Menlo,'DejaVu Sans Mono',consolas,'Courier New',monospace\"><span style=\"font-weight: bold\">MainProcess     </span> <span style=\"font-weight: bold\">[</span><span style=\"color: #008000; text-decoration-color: #008000; font-weight: bold\"> </span><span style=\"color: #008000; text-decoration-color: #008000; font-weight: bold\">0.</span><span style=\"color: #008000; text-decoration-color: #008000; font-weight: bold\">00s</span><span style=\"font-weight: bold\">]</span> Putting data into a Python list. Memory usage: <span style=\"color: #008080; text-decoration-color: #008080; font-weight: bold\">0</span> MB; peak: <span style=\"color: #008080; text-decoration-color: #008080; font-weight: bold\">0</span> MB\n",
       "</pre>\n"
      ],
      "text/plain": [
       "\u001b[1mMainProcess     \u001b[0m \u001b[1m[\u001b[0m\u001b[1;32m \u001b[0m\u001b[1;32m0.\u001b[0m\u001b[1;32m00s\u001b[0m\u001b[1m]\u001b[0m Putting data into a Python list. Memory usage: \u001b[1;36m0\u001b[0m MB; peak: \u001b[1;36m0\u001b[0m MB\n"
      ]
     },
     "metadata": {},
     "output_type": "display_data"
    },
    {
     "data": {
      "text/html": [
       "<pre style=\"white-space:pre;overflow-x:auto;line-height:normal;font-family:Menlo,'DejaVu Sans Mono',consolas,'Courier New',monospace\"><span style=\"font-weight: bold\">MainProcess     </span> <span style=\"font-weight: bold\">[</span><span style=\"color: #008000; text-decoration-color: #008000; font-weight: bold\"> </span><span style=\"color: #008000; text-decoration-color: #008000; font-weight: bold\">0.</span><span style=\"color: #008000; text-decoration-color: #008000; font-weight: bold\">73s</span><span style=\"font-weight: bold\">]</span> Converting into a data frame. Memory usage: <span style=\"color: #008080; text-decoration-color: #008080; font-weight: bold\">49</span> MB; peak: <span style=\"color: #008080; text-decoration-color: #008080; font-weight: bold\">49</span> MB\n",
       "</pre>\n"
      ],
      "text/plain": [
       "\u001b[1mMainProcess     \u001b[0m \u001b[1m[\u001b[0m\u001b[1;32m \u001b[0m\u001b[1;32m0.\u001b[0m\u001b[1;32m73s\u001b[0m\u001b[1m]\u001b[0m Converting into a data frame. Memory usage: \u001b[1;36m49\u001b[0m MB; peak: \u001b[1;36m49\u001b[0m MB\n"
      ]
     },
     "metadata": {},
     "output_type": "display_data"
    },
    {
     "data": {
      "text/html": [
       "<pre style=\"white-space:pre;overflow-x:auto;line-height:normal;font-family:Menlo,'DejaVu Sans Mono',consolas,'Courier New',monospace\"><span style=\"font-weight: bold\">MainProcess     </span> <span style=\"font-weight: bold\">[</span><span style=\"color: #008000; text-decoration-color: #008000; font-weight: bold\"> </span><span style=\"color: #008000; text-decoration-color: #008000; font-weight: bold\">0.</span><span style=\"color: #008000; text-decoration-color: #008000; font-weight: bold\">63s</span><span style=\"font-weight: bold\">]</span> Converting into numpy array Memory usage: <span style=\"color: #008080; text-decoration-color: #008080; font-weight: bold\">57</span> MB; peak: <span style=\"color: #008080; text-decoration-color: #008080; font-weight: bold\">81</span> MB\n",
       "</pre>\n"
      ],
      "text/plain": [
       "\u001b[1mMainProcess     \u001b[0m \u001b[1m[\u001b[0m\u001b[1;32m \u001b[0m\u001b[1;32m0.\u001b[0m\u001b[1;32m63s\u001b[0m\u001b[1m]\u001b[0m Converting into numpy array Memory usage: \u001b[1;36m57\u001b[0m MB; peak: \u001b[1;36m81\u001b[0m MB\n"
      ]
     },
     "metadata": {},
     "output_type": "display_data"
    },
    {
     "data": {
      "text/html": [
       "<pre style=\"white-space:pre;overflow-x:auto;line-height:normal;font-family:Menlo,'DejaVu Sans Mono',consolas,'Courier New',monospace\"><span style=\"font-weight: bold\">MainProcess     </span> <span style=\"font-weight: bold\">[</span><span style=\"color: #008000; text-decoration-color: #008000; font-weight: bold\"> </span><span style=\"color: #008000; text-decoration-color: #008000; font-weight: bold\">0.</span><span style=\"color: #008000; text-decoration-color: #008000; font-weight: bold\">01s</span><span style=\"font-weight: bold\">]</span> Returning Memory usage: <span style=\"color: #008080; text-decoration-color: #008080; font-weight: bold\">72</span> MB; peak: <span style=\"color: #008080; text-decoration-color: #008080; font-weight: bold\">81</span> MB\n",
       "</pre>\n"
      ],
      "text/plain": [
       "\u001b[1mMainProcess     \u001b[0m \u001b[1m[\u001b[0m\u001b[1;32m \u001b[0m\u001b[1;32m0.\u001b[0m\u001b[1;32m01s\u001b[0m\u001b[1m]\u001b[0m Returning Memory usage: \u001b[1;36m72\u001b[0m MB; peak: \u001b[1;36m81\u001b[0m MB\n"
      ]
     },
     "metadata": {},
     "output_type": "display_data"
    }
   ],
   "source": [
    "def make_data(length: int) -> np.array:\n",
    "    data = []\n",
    "    sprint(\"Putting data into a Python list.\", mem_usage()) \n",
    "    for i in range(length // 5):\n",
    "        data.append((datetime.datetime.now(), 0))\n",
    "        data.append((datetime.datetime.now(), 0))\n",
    "        data.append((datetime.datetime.now(), 1))\n",
    "        data.append((datetime.datetime.now(), 0))\n",
    "        data.append((datetime.datetime.now(), np.nan))\n",
    "    sprint(\"Converting into a data frame.\", mem_usage())\n",
    "    df = pd.DataFrame(data, columns=[\"timestamp\", \"val\"])\n",
    "    sprint(\"Converting into numpy array\", mem_usage())\n",
    "    np_array = df.to_records()\n",
    "    sprint(\"Returning\", mem_usage())\n",
    "    return np_array\n",
    "\n",
    "tracemalloc.start()\n",
    "print_ts = time.time()\n",
    "make_data(500000)\n",
    "tracemalloc.stop()\n"
   ]
  },
  {
   "cell_type": "code",
   "execution_count": null,
   "metadata": {},
   "outputs": [
    {
     "name": "stdout",
     "output_type": "stream",
     "text": [
      "\u001b[0;31mInit signature:\u001b[0m \u001b[0mSharedMemoryManager\u001b[0m\u001b[0;34m(\u001b[0m\u001b[0;34m*\u001b[0m\u001b[0margs\u001b[0m\u001b[0;34m,\u001b[0m \u001b[0;34m**\u001b[0m\u001b[0mkwargs\u001b[0m\u001b[0;34m)\u001b[0m\u001b[0;34m\u001b[0m\u001b[0;34m\u001b[0m\u001b[0m\n",
      "\u001b[0;31mSource:\u001b[0m        \n",
      "    \u001b[0;32mclass\u001b[0m \u001b[0mSharedMemoryManager\u001b[0m\u001b[0;34m(\u001b[0m\u001b[0mBaseManager\u001b[0m\u001b[0;34m)\u001b[0m\u001b[0;34m:\u001b[0m\u001b[0;34m\u001b[0m\n",
      "\u001b[0;34m\u001b[0m        \u001b[0;34m\"\"\"Like SyncManager but uses SharedMemoryServer instead of Server.\u001b[0m\n",
      "\u001b[0;34m\u001b[0m\n",
      "\u001b[0;34m        It provides methods for creating and returning SharedMemory instances\u001b[0m\n",
      "\u001b[0;34m        and for creating a list-like object (ShareableList) backed by shared\u001b[0m\n",
      "\u001b[0;34m        memory.  It also provides methods that create and return Proxy Objects\u001b[0m\n",
      "\u001b[0;34m        that support synchronization across processes (i.e. multi-process-safe\u001b[0m\n",
      "\u001b[0;34m        locks and semaphores).\u001b[0m\n",
      "\u001b[0;34m        \"\"\"\u001b[0m\u001b[0;34m\u001b[0m\n",
      "\u001b[0;34m\u001b[0m\u001b[0;34m\u001b[0m\n",
      "\u001b[0;34m\u001b[0m        \u001b[0m_Server\u001b[0m \u001b[0;34m=\u001b[0m \u001b[0mSharedMemoryServer\u001b[0m\u001b[0;34m\u001b[0m\n",
      "\u001b[0;34m\u001b[0m\u001b[0;34m\u001b[0m\n",
      "\u001b[0;34m\u001b[0m        \u001b[0;32mdef\u001b[0m \u001b[0m__init__\u001b[0m\u001b[0;34m(\u001b[0m\u001b[0mself\u001b[0m\u001b[0;34m,\u001b[0m \u001b[0;34m*\u001b[0m\u001b[0margs\u001b[0m\u001b[0;34m,\u001b[0m \u001b[0;34m**\u001b[0m\u001b[0mkwargs\u001b[0m\u001b[0;34m)\u001b[0m\u001b[0;34m:\u001b[0m\u001b[0;34m\u001b[0m\n",
      "\u001b[0;34m\u001b[0m            \u001b[0;32mif\u001b[0m \u001b[0mos\u001b[0m\u001b[0;34m.\u001b[0m\u001b[0mname\u001b[0m \u001b[0;34m==\u001b[0m \u001b[0;34m\"posix\"\u001b[0m\u001b[0;34m:\u001b[0m\u001b[0;34m\u001b[0m\n",
      "\u001b[0;34m\u001b[0m                \u001b[0;31m# bpo-36867: Ensure the resource_tracker is running before\u001b[0m\u001b[0;34m\u001b[0m\n",
      "\u001b[0;34m\u001b[0m                \u001b[0;31m# launching the manager process, so that concurrent\u001b[0m\u001b[0;34m\u001b[0m\n",
      "\u001b[0;34m\u001b[0m                \u001b[0;31m# shared_memory manipulation both in the manager and in the\u001b[0m\u001b[0;34m\u001b[0m\n",
      "\u001b[0;34m\u001b[0m                \u001b[0;31m# current process does not create two resource_tracker\u001b[0m\u001b[0;34m\u001b[0m\n",
      "\u001b[0;34m\u001b[0m                \u001b[0;31m# processes.\u001b[0m\u001b[0;34m\u001b[0m\n",
      "\u001b[0;34m\u001b[0m                \u001b[0;32mfrom\u001b[0m \u001b[0;34m.\u001b[0m \u001b[0;32mimport\u001b[0m \u001b[0mresource_tracker\u001b[0m\u001b[0;34m\u001b[0m\n",
      "\u001b[0;34m\u001b[0m                \u001b[0mresource_tracker\u001b[0m\u001b[0;34m.\u001b[0m\u001b[0mensure_running\u001b[0m\u001b[0;34m(\u001b[0m\u001b[0;34m)\u001b[0m\u001b[0;34m\u001b[0m\n",
      "\u001b[0;34m\u001b[0m            \u001b[0mBaseManager\u001b[0m\u001b[0;34m.\u001b[0m\u001b[0m__init__\u001b[0m\u001b[0;34m(\u001b[0m\u001b[0mself\u001b[0m\u001b[0;34m,\u001b[0m \u001b[0;34m*\u001b[0m\u001b[0margs\u001b[0m\u001b[0;34m,\u001b[0m \u001b[0;34m**\u001b[0m\u001b[0mkwargs\u001b[0m\u001b[0;34m)\u001b[0m\u001b[0;34m\u001b[0m\n",
      "\u001b[0;34m\u001b[0m            \u001b[0mutil\u001b[0m\u001b[0;34m.\u001b[0m\u001b[0mdebug\u001b[0m\u001b[0;34m(\u001b[0m\u001b[0;34mf\"{self.__class__.__name__} created by pid {getpid()}\"\u001b[0m\u001b[0;34m)\u001b[0m\u001b[0;34m\u001b[0m\n",
      "\u001b[0;34m\u001b[0m\u001b[0;34m\u001b[0m\n",
      "\u001b[0;34m\u001b[0m        \u001b[0;32mdef\u001b[0m \u001b[0m__del__\u001b[0m\u001b[0;34m(\u001b[0m\u001b[0mself\u001b[0m\u001b[0;34m)\u001b[0m\u001b[0;34m:\u001b[0m\u001b[0;34m\u001b[0m\n",
      "\u001b[0;34m\u001b[0m            \u001b[0mutil\u001b[0m\u001b[0;34m.\u001b[0m\u001b[0mdebug\u001b[0m\u001b[0;34m(\u001b[0m\u001b[0;34mf\"{self.__class__.__name__}.__del__ by pid {getpid()}\"\u001b[0m\u001b[0;34m)\u001b[0m\u001b[0;34m\u001b[0m\n",
      "\u001b[0;34m\u001b[0m            \u001b[0;32mpass\u001b[0m\u001b[0;34m\u001b[0m\n",
      "\u001b[0;34m\u001b[0m\u001b[0;34m\u001b[0m\n",
      "\u001b[0;34m\u001b[0m        \u001b[0;32mdef\u001b[0m \u001b[0mget_server\u001b[0m\u001b[0;34m(\u001b[0m\u001b[0mself\u001b[0m\u001b[0;34m)\u001b[0m\u001b[0;34m:\u001b[0m\u001b[0;34m\u001b[0m\n",
      "\u001b[0;34m\u001b[0m            \u001b[0;34m'Better than monkeypatching for now; merge into Server ultimately'\u001b[0m\u001b[0;34m\u001b[0m\n",
      "\u001b[0;34m\u001b[0m            \u001b[0;32mif\u001b[0m \u001b[0mself\u001b[0m\u001b[0;34m.\u001b[0m\u001b[0m_state\u001b[0m\u001b[0;34m.\u001b[0m\u001b[0mvalue\u001b[0m \u001b[0;34m!=\u001b[0m \u001b[0mState\u001b[0m\u001b[0;34m.\u001b[0m\u001b[0mINITIAL\u001b[0m\u001b[0;34m:\u001b[0m\u001b[0;34m\u001b[0m\n",
      "\u001b[0;34m\u001b[0m                \u001b[0;32mif\u001b[0m \u001b[0mself\u001b[0m\u001b[0;34m.\u001b[0m\u001b[0m_state\u001b[0m\u001b[0;34m.\u001b[0m\u001b[0mvalue\u001b[0m \u001b[0;34m==\u001b[0m \u001b[0mState\u001b[0m\u001b[0;34m.\u001b[0m\u001b[0mSTARTED\u001b[0m\u001b[0;34m:\u001b[0m\u001b[0;34m\u001b[0m\n",
      "\u001b[0;34m\u001b[0m                    \u001b[0;32mraise\u001b[0m \u001b[0mProcessError\u001b[0m\u001b[0;34m(\u001b[0m\u001b[0;34m\"Already started SharedMemoryServer\"\u001b[0m\u001b[0;34m)\u001b[0m\u001b[0;34m\u001b[0m\n",
      "\u001b[0;34m\u001b[0m                \u001b[0;32melif\u001b[0m \u001b[0mself\u001b[0m\u001b[0;34m.\u001b[0m\u001b[0m_state\u001b[0m\u001b[0;34m.\u001b[0m\u001b[0mvalue\u001b[0m \u001b[0;34m==\u001b[0m \u001b[0mState\u001b[0m\u001b[0;34m.\u001b[0m\u001b[0mSHUTDOWN\u001b[0m\u001b[0;34m:\u001b[0m\u001b[0;34m\u001b[0m\n",
      "\u001b[0;34m\u001b[0m                    \u001b[0;32mraise\u001b[0m \u001b[0mProcessError\u001b[0m\u001b[0;34m(\u001b[0m\u001b[0;34m\"SharedMemoryManager has shut down\"\u001b[0m\u001b[0;34m)\u001b[0m\u001b[0;34m\u001b[0m\n",
      "\u001b[0;34m\u001b[0m                \u001b[0;32melse\u001b[0m\u001b[0;34m:\u001b[0m\u001b[0;34m\u001b[0m\n",
      "\u001b[0;34m\u001b[0m                    \u001b[0;32mraise\u001b[0m \u001b[0mProcessError\u001b[0m\u001b[0;34m(\u001b[0m\u001b[0;34m\u001b[0m\n",
      "\u001b[0;34m\u001b[0m                        \u001b[0;34m\"Unknown state {!r}\"\u001b[0m\u001b[0;34m.\u001b[0m\u001b[0mformat\u001b[0m\u001b[0;34m(\u001b[0m\u001b[0mself\u001b[0m\u001b[0;34m.\u001b[0m\u001b[0m_state\u001b[0m\u001b[0;34m.\u001b[0m\u001b[0mvalue\u001b[0m\u001b[0;34m)\u001b[0m\u001b[0;34m)\u001b[0m\u001b[0;34m\u001b[0m\n",
      "\u001b[0;34m\u001b[0m            \u001b[0;32mreturn\u001b[0m \u001b[0mself\u001b[0m\u001b[0;34m.\u001b[0m\u001b[0m_Server\u001b[0m\u001b[0;34m(\u001b[0m\u001b[0mself\u001b[0m\u001b[0;34m.\u001b[0m\u001b[0m_registry\u001b[0m\u001b[0;34m,\u001b[0m \u001b[0mself\u001b[0m\u001b[0;34m.\u001b[0m\u001b[0m_address\u001b[0m\u001b[0;34m,\u001b[0m\u001b[0;34m\u001b[0m\n",
      "\u001b[0;34m\u001b[0m                                \u001b[0mself\u001b[0m\u001b[0;34m.\u001b[0m\u001b[0m_authkey\u001b[0m\u001b[0;34m,\u001b[0m \u001b[0mself\u001b[0m\u001b[0;34m.\u001b[0m\u001b[0m_serializer\u001b[0m\u001b[0;34m)\u001b[0m\u001b[0;34m\u001b[0m\n",
      "\u001b[0;34m\u001b[0m\u001b[0;34m\u001b[0m\n",
      "\u001b[0;34m\u001b[0m        \u001b[0;32mdef\u001b[0m \u001b[0mSharedMemory\u001b[0m\u001b[0;34m(\u001b[0m\u001b[0mself\u001b[0m\u001b[0;34m,\u001b[0m \u001b[0msize\u001b[0m\u001b[0;34m)\u001b[0m\u001b[0;34m:\u001b[0m\u001b[0;34m\u001b[0m\n",
      "\u001b[0;34m\u001b[0m            \u001b[0;34m\"\"\"Returns a new SharedMemory instance with the specified size in\u001b[0m\n",
      "\u001b[0;34m            bytes, to be tracked by the manager.\"\"\"\u001b[0m\u001b[0;34m\u001b[0m\n",
      "\u001b[0;34m\u001b[0m            \u001b[0;32mwith\u001b[0m \u001b[0mself\u001b[0m\u001b[0;34m.\u001b[0m\u001b[0m_Client\u001b[0m\u001b[0;34m(\u001b[0m\u001b[0mself\u001b[0m\u001b[0;34m.\u001b[0m\u001b[0m_address\u001b[0m\u001b[0;34m,\u001b[0m \u001b[0mauthkey\u001b[0m\u001b[0;34m=\u001b[0m\u001b[0mself\u001b[0m\u001b[0;34m.\u001b[0m\u001b[0m_authkey\u001b[0m\u001b[0;34m)\u001b[0m \u001b[0;32mas\u001b[0m \u001b[0mconn\u001b[0m\u001b[0;34m:\u001b[0m\u001b[0;34m\u001b[0m\n",
      "\u001b[0;34m\u001b[0m                \u001b[0msms\u001b[0m \u001b[0;34m=\u001b[0m \u001b[0mshared_memory\u001b[0m\u001b[0;34m.\u001b[0m\u001b[0mSharedMemory\u001b[0m\u001b[0;34m(\u001b[0m\u001b[0;32mNone\u001b[0m\u001b[0;34m,\u001b[0m \u001b[0mcreate\u001b[0m\u001b[0;34m=\u001b[0m\u001b[0;32mTrue\u001b[0m\u001b[0;34m,\u001b[0m \u001b[0msize\u001b[0m\u001b[0;34m=\u001b[0m\u001b[0msize\u001b[0m\u001b[0;34m)\u001b[0m\u001b[0;34m\u001b[0m\n",
      "\u001b[0;34m\u001b[0m                \u001b[0;32mtry\u001b[0m\u001b[0;34m:\u001b[0m\u001b[0;34m\u001b[0m\n",
      "\u001b[0;34m\u001b[0m                    \u001b[0mdispatch\u001b[0m\u001b[0;34m(\u001b[0m\u001b[0mconn\u001b[0m\u001b[0;34m,\u001b[0m \u001b[0;32mNone\u001b[0m\u001b[0;34m,\u001b[0m \u001b[0;34m'track_segment'\u001b[0m\u001b[0;34m,\u001b[0m \u001b[0;34m(\u001b[0m\u001b[0msms\u001b[0m\u001b[0;34m.\u001b[0m\u001b[0mname\u001b[0m\u001b[0;34m,\u001b[0m\u001b[0;34m)\u001b[0m\u001b[0;34m)\u001b[0m\u001b[0;34m\u001b[0m\n",
      "\u001b[0;34m\u001b[0m                \u001b[0;32mexcept\u001b[0m \u001b[0mBaseException\u001b[0m \u001b[0;32mas\u001b[0m \u001b[0me\u001b[0m\u001b[0;34m:\u001b[0m\u001b[0;34m\u001b[0m\n",
      "\u001b[0;34m\u001b[0m                    \u001b[0msms\u001b[0m\u001b[0;34m.\u001b[0m\u001b[0munlink\u001b[0m\u001b[0;34m(\u001b[0m\u001b[0;34m)\u001b[0m\u001b[0;34m\u001b[0m\n",
      "\u001b[0;34m\u001b[0m                    \u001b[0;32mraise\u001b[0m \u001b[0me\u001b[0m\u001b[0;34m\u001b[0m\n",
      "\u001b[0;34m\u001b[0m            \u001b[0;32mreturn\u001b[0m \u001b[0msms\u001b[0m\u001b[0;34m\u001b[0m\n",
      "\u001b[0;34m\u001b[0m\u001b[0;34m\u001b[0m\n",
      "\u001b[0;34m\u001b[0m        \u001b[0;32mdef\u001b[0m \u001b[0mShareableList\u001b[0m\u001b[0;34m(\u001b[0m\u001b[0mself\u001b[0m\u001b[0;34m,\u001b[0m \u001b[0msequence\u001b[0m\u001b[0;34m)\u001b[0m\u001b[0;34m:\u001b[0m\u001b[0;34m\u001b[0m\n",
      "\u001b[0;34m\u001b[0m            \u001b[0;34m\"\"\"Returns a new ShareableList instance populated with the values\u001b[0m\n",
      "\u001b[0;34m            from the input sequence, to be tracked by the manager.\"\"\"\u001b[0m\u001b[0;34m\u001b[0m\n",
      "\u001b[0;34m\u001b[0m            \u001b[0;32mwith\u001b[0m \u001b[0mself\u001b[0m\u001b[0;34m.\u001b[0m\u001b[0m_Client\u001b[0m\u001b[0;34m(\u001b[0m\u001b[0mself\u001b[0m\u001b[0;34m.\u001b[0m\u001b[0m_address\u001b[0m\u001b[0;34m,\u001b[0m \u001b[0mauthkey\u001b[0m\u001b[0;34m=\u001b[0m\u001b[0mself\u001b[0m\u001b[0;34m.\u001b[0m\u001b[0m_authkey\u001b[0m\u001b[0;34m)\u001b[0m \u001b[0;32mas\u001b[0m \u001b[0mconn\u001b[0m\u001b[0;34m:\u001b[0m\u001b[0;34m\u001b[0m\n",
      "\u001b[0;34m\u001b[0m                \u001b[0msl\u001b[0m \u001b[0;34m=\u001b[0m \u001b[0mshared_memory\u001b[0m\u001b[0;34m.\u001b[0m\u001b[0mShareableList\u001b[0m\u001b[0;34m(\u001b[0m\u001b[0msequence\u001b[0m\u001b[0;34m)\u001b[0m\u001b[0;34m\u001b[0m\n",
      "\u001b[0;34m\u001b[0m                \u001b[0;32mtry\u001b[0m\u001b[0;34m:\u001b[0m\u001b[0;34m\u001b[0m\n",
      "\u001b[0;34m\u001b[0m                    \u001b[0mdispatch\u001b[0m\u001b[0;34m(\u001b[0m\u001b[0mconn\u001b[0m\u001b[0;34m,\u001b[0m \u001b[0;32mNone\u001b[0m\u001b[0;34m,\u001b[0m \u001b[0;34m'track_segment'\u001b[0m\u001b[0;34m,\u001b[0m \u001b[0;34m(\u001b[0m\u001b[0msl\u001b[0m\u001b[0;34m.\u001b[0m\u001b[0mshm\u001b[0m\u001b[0;34m.\u001b[0m\u001b[0mname\u001b[0m\u001b[0;34m,\u001b[0m\u001b[0;34m)\u001b[0m\u001b[0;34m)\u001b[0m\u001b[0;34m\u001b[0m\n",
      "\u001b[0;34m\u001b[0m                \u001b[0;32mexcept\u001b[0m \u001b[0mBaseException\u001b[0m \u001b[0;32mas\u001b[0m \u001b[0me\u001b[0m\u001b[0;34m:\u001b[0m\u001b[0;34m\u001b[0m\n",
      "\u001b[0;34m\u001b[0m                    \u001b[0msl\u001b[0m\u001b[0;34m.\u001b[0m\u001b[0mshm\u001b[0m\u001b[0;34m.\u001b[0m\u001b[0munlink\u001b[0m\u001b[0;34m(\u001b[0m\u001b[0;34m)\u001b[0m\u001b[0;34m\u001b[0m\n",
      "\u001b[0;34m\u001b[0m                    \u001b[0;32mraise\u001b[0m \u001b[0me\u001b[0m\u001b[0;34m\u001b[0m\n",
      "\u001b[0;34m\u001b[0m            \u001b[0;32mreturn\u001b[0m \u001b[0msl\u001b[0m\u001b[0;34m\u001b[0m\u001b[0;34m\u001b[0m\u001b[0m\n",
      "\u001b[0;31mFile:\u001b[0m           ~/.pyenv/versions/3.10.9/lib/python3.10/multiprocessing/managers.py\n",
      "\u001b[0;31mType:\u001b[0m           type\n",
      "\u001b[0;31mSubclasses:\u001b[0m     "
     ]
    }
   ],
   "source": [
    "from multiprocessing.managers import SharedMemoryManager\n",
    "\n",
    "SharedMemoryManager??"
   ]
  },
  {
   "cell_type": "code",
   "execution_count": null,
   "metadata": {},
   "outputs": [],
   "source": []
  }
 ],
 "metadata": {
  "kernelspec": {
   "display_name": "python3",
   "language": "python",
   "name": "python3"
  }
 },
 "nbformat": 4,
 "nbformat_minor": 4
}
