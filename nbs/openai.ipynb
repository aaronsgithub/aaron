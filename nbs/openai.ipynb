{
 "cells": [
  {
   "attachments": {},
   "cell_type": "markdown",
   "metadata": {},
   "source": [
    "# openai\n",
    "\n",
    "> Convenience code for working with Open AI apis"
   ]
  },
  {
   "cell_type": "code",
   "execution_count": null,
   "metadata": {},
   "outputs": [],
   "source": [
    "#| default_exp openai"
   ]
  },
  {
   "cell_type": "code",
   "execution_count": null,
   "metadata": {},
   "outputs": [],
   "source": [
    "#| hide\n",
    "from nbdev.showdoc import *"
   ]
  },
  {
   "cell_type": "code",
   "execution_count": null,
   "metadata": {},
   "outputs": [],
   "source": [
    "#| export\n",
    "import tiktoken"
   ]
  },
  {
   "attachments": {},
   "cell_type": "markdown",
   "metadata": {},
   "source": [
    "### Token helpers\n",
    "\n",
    "It is often useful to be able to estimate the number of tokens a text contains before sending it to a model.\n",
    "\n",
    "The Open AI cookbook provides some useful examples [here](https://github.com/openai/openai-cookbook/blob/main/examples/How_to_count_tokens_with_tiktoken.ipynb).\n",
    "\n",
    "We provide some more convenience tools below."
   ]
  },
  {
   "cell_type": "code",
   "execution_count": null,
   "metadata": {},
   "outputs": [
    {
     "name": "stdout",
     "output_type": "stream",
     "text": [
      "3.10.9 (main, Dec 25 2022, 10:41:56) [GCC 11.3.0]\n"
     ]
    }
   ],
   "source": [
    "# | export\n",
    "import sys\n",
    "from typing import Literal\n",
    "\n",
    "print(sys.version)\n",
    "\n",
    "def ntok(\n",
    "    text: str, \n",
    "    encoding: Literal[\"cl100k_base\", \"p50k_base\", \"r50k_base\"] = \"cl100k_base\",\n",
    ") -> int:\n",
    "    \"\"\"Computes number of tokens for given text and selected encoding.\"\"\"\n",
    "    encoding = tiktoken.get_encoding(encoding)\n",
    "    return len(encoding.encode(text))"
   ]
  },
  {
   "cell_type": "code",
   "execution_count": null,
   "metadata": {},
   "outputs": [
    {
     "data": {
      "text/plain": [
       "4"
      ]
     },
     "execution_count": null,
     "metadata": {},
     "output_type": "execute_result"
    }
   ],
   "source": [
    "ntok(\"Hello, world!\")"
   ]
  },
  {
   "cell_type": "code",
   "execution_count": null,
   "metadata": {},
   "outputs": [],
   "source": [
    "#| hide\n",
    "import nbdev; nbdev.nbdev_export()"
   ]
  }
 ],
 "metadata": {
  "kernelspec": {
   "display_name": "python3",
   "language": "python",
   "name": "python3"
  }
 },
 "nbformat": 4,
 "nbformat_minor": 4
}
