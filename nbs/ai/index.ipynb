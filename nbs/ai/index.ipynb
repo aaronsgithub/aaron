{
 "cells": [
  {
   "cell_type": "markdown",
   "metadata": {},
   "source": [
    "# AI\n",
    "\n",
    "> This is mostly my walkthrough of the fast ai part 2 course. Its probably not useful"
   ]
  },
  {
   "cell_type": "code",
   "execution_count": null,
   "metadata": {},
   "outputs": [],
   "source": []
  }
 ],
 "metadata": {},
 "nbformat": 4,
 "nbformat_minor": 2
}
